{
 "cells": [
  {
   "cell_type": "code",
   "execution_count": 6,
   "metadata": {},
   "outputs": [],
   "source": [
    "#Dependencies\n",
    "import datetime as dt\n",
    "import getpass\n",
    "import json\n",
    "import numpy as np\n",
    "import os\n",
    "import pandas as pd\n",
    "import requests\n",
    "import splinter\n",
    "import sys\n",
    "import urllib\n",
    "import matplotlib.pyplot as plt\n",
    "\n",
    "from bs4 import BeautifulSoup\n",
    "from pprint import pprint\n",
    "from selenium import webdriver\n",
    "from selenium.webdriver.common.keys import Keys\n",
    "from splinter import Browser\n",
    "from splinter.exceptions import ElementDoesNotExist\n",
    "from urllib.request import urlopen\n",
    "from vaderSentiment.vaderSentiment import SentimentIntensityAnalyzer \n",
    "analyzer = SentimentIntensityAnalyzer()\n",
    "\n",
    "if sys.version_info[0] < 3: \n",
    "    from StringIO import StringIO\n",
    "else:\n",
    "    from io import StringIO\n",
    "browser=Browser(\"chrome\", headless=False)"
   ]
  },
  {
   "cell_type": "code",
   "execution_count": 13,
   "metadata": {},
   "outputs": [
    {
     "name": "stdout",
     "output_type": "stream",
     "text": [
      "Enter email address or number with country code: mdiaz5215@yahoo.com\n",
      "Enter your password: ········\n"
     ]
    }
   ],
   "source": [
    "url = \"https://www.linkedin.com/\"\n",
    "profile = \"https://www.linkedin.com/in/jaleel-tyson-4b3833117/\"\n",
    "userid = str(input(\"Enter email address or number with country code: \"))\n",
    "password = getpass.getpass(\"Enter your password: \")"
   ]
  },
  {
   "cell_type": "code",
   "execution_count": 3,
   "metadata": {},
   "outputs": [],
   "source": [
    "# browser.visit(url)\n",
    "<a data-control-name=\"contact_see_more\" href=\"/in/jaleel-tyson-4b3833117/detail/contact-info/\" id=\"ember1270\" class=\"pv-top-card-v2-section__link pv-top-card-v2-section__link--contact-info mb1 ember-view\">    <span class=\"svg-icon-wrap\"><span class=\"visually-hidden\">See contact info</span><li-icon aria-hidden=\"true\" type=\"address-book-icon\" class=\"pv-top-card-v2-section__icon mh1\" size=\"medium\"><svg viewBox=\"0 0 24 24\" width=\"24\" height=\"24\" style=\"\" x=\"0\" y=\"0\" preserveAspectRatio=\"xMinYMin meet\" focusable=\"false\"><path d=\"M16,15H10a3.24,3.24,0,0,1,1.79-2.89L12,12h2l0.21,0.11A3.24,3.24,0,0,1,16,15ZM13,8h0a2,2,0,0,0-2,2h0a2,2,0,0,0,2,2h0a2,2,0,0,0,2-2h0A2,2,0,0,0,13,8Zm8-4V20a2,2,0,0,1-2,2H5V19H3V17H5V13H3V11H5V7H3V5H5V2H19A2,2,0,0,1,21,4ZM19,4H7V20H19V4Z\" class=\"large-icon\" style=\"fill: currentColor\"></path></svg></li-icon></span>\n",
    "    <span class=\"pv-top-card-v2-section__entity-name pv-top-card-v2-section__contact-info ml2 t-14 t-black t-bold\">\n",
    "      See contact info\n",
    "    </span>\n",
    "</a>"
   ]
  },
  {
   "cell_type": "code",
   "execution_count": 4,
   "metadata": {},
   "outputs": [],
   "source": [
    "# chrome_path = \"./chromedriver\"\n",
    "# driver = webdriver.Chrome(chrome_path)\n",
    "# driver.get(url)"
   ]
  },
  {
   "cell_type": "code",
   "execution_count": null,
   "metadata": {},
   "outputs": [],
   "source": [
    "pv-top-card-v2-section__entity-name \n",
    "pv-top-card-v2-section__contact-info "
   ]
  },
  {
   "cell_type": "code",
   "execution_count": 54,
   "metadata": {},
   "outputs": [
    {
     "name": "stdout",
     "output_type": "stream",
     "text": [
      "\n",
      "      Jaleel Tyson\n",
      "    \n",
      "\n",
      "      Business Administration Intern  at DoughMain Financial Literacy Foundation\n",
      "    \n",
      "    <span class=\"svg-icon-wrap\"><span class=\"visually-hidden\">See contact info</span><li-icon aria-hidden=\"true\" type=\"address-book-icon\" class=\"pv-top-card-v2-section__icon mh1\" size=\"medium\"><svg viewBox=\"0 0 24 24\" width=\"24\" height=\"24\" style=\"\" x=\"0\" y=\"0\" preserveAspectRatio=\"xMinYMin meet\" focusable=\"false\"><path d=\"M16,15H10a3.24,3.24,0,0,1,1.79-2.89L12,12h2l0.21,0.11A3.24,3.24,0,0,1,16,15ZM13,8h0a2,2,0,0,0-2,2h0a2,2,0,0,0,2,2h0a2,2,0,0,0,2-2h0A2,2,0,0,0,13,8Zm8-4V20a2,2,0,0,1-2,2H5V19H3V17H5V13H3V11H5V7H3V5H5V2H19A2,2,0,0,1,21,4ZM19,4H7V20H19V4Z\" class=\"large-icon\" style=\"fill: currentColor\"></path></svg></li-icon></span>\n",
      "    <span class=\"pv-top-card-v2-section__entity-name pv-top-card-v2-section__contact-info ml2 t-14 t-black t-bold\">\n",
      "      See contact info\n",
      "    </span>\n",
      "\n",
      "Email Address\n",
      "          jtyson@student.fdu.edu\n",
      "        \n"
     ]
    }
   ],
   "source": [
    "chrome_path = \"./chromedriver\"\n",
    "driver = webdriver.Chrome(chrome_path)\n",
    "driver.get(url.rstrip())\n",
    "driver.implicitly_wait(6)\n",
    "driver.find_element_by_xpath(\"\"\"//*[@id='login-email']\"\"\").send_keys(userid)\n",
    "driver.find_element_by_xpath(\"\"\"//*[@id='login-password']\"\"\").send_keys(password)\n",
    "driver.find_element_by_xpath(\"\"\"//*[@id='login-submit']\"\"\").click()\n",
    "driver.get(profile.rstrip()) #Enter any of your connection profile link\n",
    "connectionName = driver.find_element_by_class_name(\"pv-top-card-section__name\").get_attribute(\"innerHTML\")\n",
    "print(connectionName)\n",
    "connectionTitle = driver.find_element_by_class_name(\"pv-top-card-section__headline\").get_attribute(\"innerHTML\")\n",
    "print(connectionTitle)\n",
    "name = driver.find_element_by_id(\"ember78\")\n",
    "print(name.get_attribute(\"innerHTML\"))\n",
    "name.click()\n",
    "content = driver.find_element_by_css_selector(\"div.pv-profile-section__section-info.section-info\")\n",
    "data = BeautifulSoup(content.get_attribute(\"innerHTML\"), \"lxml\")\n",
    "driver.find_element_by_tag_name(\"body\").send_keys(Keys.CONTROL + \"t\")\n",
    "for section in data.find_all(\"section\"):\n",
    "    for header in section.find_all(\"header\"):\n",
    "        if header.contents[0] == 'Email':\n",
    "            section.find_all('a')\n",
    "            print(\"Email Address\" + section.a.contents[0])\n",
    "        if header.contents[0] == 'Phone':\n",
    "            section.find_all('a')\n",
    "            print(\"Phone Number :\" + section.a.contents[0])"
   ]
  },
  {
   "cell_type": "code",
   "execution_count": 48,
   "metadata": {},
   "outputs": [],
   "source": [
    "# driver.find_element_by_css_selector(\"button.contact-see-more-leess\").click()\n",
    "# content = driver.find_element_by_css_selector(\".pv-profile-section.pv-contact-info.artdeco-container-card.ember-view\")\n",
    "# data = BeautifulSoup(content.get_attribute(\"innerHTML\"), \"lxml\")\n",
    "# driver.find_element_by_tag_name(\"body\").send_keys(Keys.CONTROL + \"t\")\n",
    "# for section in data.find_all(\"section\"):\n",
    "#     for header in section.find_all(\"header\"):\n",
    "#         if header.contents[0] == 'Email':\n",
    "#             section.find_all('a')\n",
    "#             print(\"Email Address\" + section.a.contents[0])\n",
    "#         if header.contents[0] == 'Phone':\n",
    "#             section.find_all('a')\n",
    "#             print(\"Phone Number :\" + section.a.contents[0])"
   ]
  },
  {
   "cell_type": "code",
   "execution_count": null,
   "metadata": {},
   "outputs": [],
   "source": [
    "# <input type=\"text\" name=\"session_key\" \n",
    "# class=\"login-email\" autocapitalize=\"off\" \n",
    "# tabindex=\"1\" id=\"login-email\" placeholder=\"Email\" autofocus=\"autofocus\">\n",
    "\n",
    "# <input type=\"password\" name=\"session_password\" \n",
    "# class=\"login-password\" id=\"login-password\" \n",
    "# aria-required=\"true\" tabindex=\"1\" placeholder=\"Password\">\n",
    "\n",
    "# <input tabindex=\"1\" id=\"login-submit\" \n",
    "# class=\"login submit-button\" type=\"submit\" value=\"Sign in\" disabled=\"\">"
   ]
  }
 ],
 "metadata": {
  "kernelspec": {
   "display_name": "Python 3",
   "language": "python",
   "name": "python3"
  },
  "language_info": {
   "codemirror_mode": {
    "name": "ipython",
    "version": 3
   },
   "file_extension": ".py",
   "mimetype": "text/x-python",
   "name": "python",
   "nbconvert_exporter": "python",
   "pygments_lexer": "ipython3",
   "version": "3.6.4"
  }
 },
 "nbformat": 4,
 "nbformat_minor": 2
}
